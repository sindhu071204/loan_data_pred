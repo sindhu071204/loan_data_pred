{
 "cells": [
  {
   "cell_type": "code",
   "execution_count": 1,
   "id": "57264b26",
   "metadata": {},
   "outputs": [],
   "source": [
    "#importing the necessary libraries\n",
    "import numpy as np\n",
    "import pandas as pd\n",
    "import matplotlib.pyplot as plt\n",
    "import seaborn as sb"
   ]
  },
  {
   "cell_type": "code",
   "execution_count": 2,
   "id": "b352f79d",
   "metadata": {},
   "outputs": [],
   "source": [
    "import warnings\n",
    "warnings.filterwarnings('ignore')"
   ]
  },
  {
   "cell_type": "code",
   "execution_count": 3,
   "id": "3ad0fe61",
   "metadata": {},
   "outputs": [
    {
     "data": {
      "text/html": [
       "<div>\n",
       "<style scoped>\n",
       "    .dataframe tbody tr th:only-of-type {\n",
       "        vertical-align: middle;\n",
       "    }\n",
       "\n",
       "    .dataframe tbody tr th {\n",
       "        vertical-align: top;\n",
       "    }\n",
       "\n",
       "    .dataframe thead th {\n",
       "        text-align: right;\n",
       "    }\n",
       "</style>\n",
       "<table border=\"1\" class=\"dataframe\">\n",
       "  <thead>\n",
       "    <tr style=\"text-align: right;\">\n",
       "      <th></th>\n",
       "      <th>Gender</th>\n",
       "      <th>Married</th>\n",
       "      <th>ApplicantIncome</th>\n",
       "      <th>LoanAmount</th>\n",
       "      <th>Loan_Status</th>\n",
       "    </tr>\n",
       "  </thead>\n",
       "  <tbody>\n",
       "    <tr>\n",
       "      <th>0</th>\n",
       "      <td>Male</td>\n",
       "      <td>Yes</td>\n",
       "      <td>4583</td>\n",
       "      <td>128000.0</td>\n",
       "      <td>N</td>\n",
       "    </tr>\n",
       "    <tr>\n",
       "      <th>1</th>\n",
       "      <td>Male</td>\n",
       "      <td>Yes</td>\n",
       "      <td>3000</td>\n",
       "      <td>66000.0</td>\n",
       "      <td>Y</td>\n",
       "    </tr>\n",
       "    <tr>\n",
       "      <th>2</th>\n",
       "      <td>Male</td>\n",
       "      <td>Yes</td>\n",
       "      <td>2583</td>\n",
       "      <td>120000.0</td>\n",
       "      <td>Y</td>\n",
       "    </tr>\n",
       "    <tr>\n",
       "      <th>3</th>\n",
       "      <td>Male</td>\n",
       "      <td>No</td>\n",
       "      <td>6000</td>\n",
       "      <td>141000.0</td>\n",
       "      <td>Y</td>\n",
       "    </tr>\n",
       "    <tr>\n",
       "      <th>4</th>\n",
       "      <td>Male</td>\n",
       "      <td>Yes</td>\n",
       "      <td>5417</td>\n",
       "      <td>267000.0</td>\n",
       "      <td>Y</td>\n",
       "    </tr>\n",
       "  </tbody>\n",
       "</table>\n",
       "</div>"
      ],
      "text/plain": [
       "  Gender Married  ApplicantIncome  LoanAmount Loan_Status\n",
       "0   Male     Yes             4583    128000.0           N\n",
       "1   Male     Yes             3000     66000.0           Y\n",
       "2   Male     Yes             2583    120000.0           Y\n",
       "3   Male      No             6000    141000.0           Y\n",
       "4   Male     Yes             5417    267000.0           Y"
      ]
     },
     "execution_count": 3,
     "metadata": {},
     "output_type": "execute_result"
    }
   ],
   "source": [
    "loandata=pd.read_csv('loan_data.csv')\n",
    "loandata.head()"
   ]
  },
  {
   "cell_type": "code",
   "execution_count": 4,
   "id": "83ab9e66",
   "metadata": {},
   "outputs": [
    {
     "data": {
      "text/plain": [
       "(577, 5)"
      ]
     },
     "execution_count": 4,
     "metadata": {},
     "output_type": "execute_result"
    }
   ],
   "source": [
    "loandata.shape"
   ]
  },
  {
   "cell_type": "code",
   "execution_count": 5,
   "id": "64c01d69",
   "metadata": {},
   "outputs": [
    {
     "name": "stdout",
     "output_type": "stream",
     "text": [
      "<class 'pandas.core.frame.DataFrame'>\n",
      "RangeIndex: 577 entries, 0 to 576\n",
      "Data columns (total 5 columns):\n",
      " #   Column           Non-Null Count  Dtype  \n",
      "---  ------           --------------  -----  \n",
      " 0   Gender           577 non-null    object \n",
      " 1   Married          577 non-null    object \n",
      " 2   ApplicantIncome  577 non-null    int64  \n",
      " 3   LoanAmount       577 non-null    float64\n",
      " 4   Loan_Status      577 non-null    object \n",
      "dtypes: float64(1), int64(1), object(3)\n",
      "memory usage: 22.7+ KB\n"
     ]
    }
   ],
   "source": [
    "loandata.info()"
   ]
  },
  {
   "cell_type": "code",
   "execution_count": 6,
   "id": "f2e990fc",
   "metadata": {},
   "outputs": [
    {
     "data": {
      "text/html": [
       "<div>\n",
       "<style scoped>\n",
       "    .dataframe tbody tr th:only-of-type {\n",
       "        vertical-align: middle;\n",
       "    }\n",
       "\n",
       "    .dataframe tbody tr th {\n",
       "        vertical-align: top;\n",
       "    }\n",
       "\n",
       "    .dataframe thead th {\n",
       "        text-align: right;\n",
       "    }\n",
       "</style>\n",
       "<table border=\"1\" class=\"dataframe\">\n",
       "  <thead>\n",
       "    <tr style=\"text-align: right;\">\n",
       "      <th></th>\n",
       "      <th>ApplicantIncome</th>\n",
       "      <th>LoanAmount</th>\n",
       "    </tr>\n",
       "  </thead>\n",
       "  <tbody>\n",
       "    <tr>\n",
       "      <th>count</th>\n",
       "      <td>577.000000</td>\n",
       "      <td>577.000000</td>\n",
       "    </tr>\n",
       "    <tr>\n",
       "      <th>mean</th>\n",
       "      <td>5297.119584</td>\n",
       "      <td>144968.804159</td>\n",
       "    </tr>\n",
       "    <tr>\n",
       "      <th>std</th>\n",
       "      <td>5853.236196</td>\n",
       "      <td>82704.181660</td>\n",
       "    </tr>\n",
       "    <tr>\n",
       "      <th>min</th>\n",
       "      <td>150.000000</td>\n",
       "      <td>9000.000000</td>\n",
       "    </tr>\n",
       "    <tr>\n",
       "      <th>25%</th>\n",
       "      <td>2889.000000</td>\n",
       "      <td>100000.000000</td>\n",
       "    </tr>\n",
       "    <tr>\n",
       "      <th>50%</th>\n",
       "      <td>3800.000000</td>\n",
       "      <td>127000.000000</td>\n",
       "    </tr>\n",
       "    <tr>\n",
       "      <th>75%</th>\n",
       "      <td>5746.000000</td>\n",
       "      <td>167000.000000</td>\n",
       "    </tr>\n",
       "    <tr>\n",
       "      <th>max</th>\n",
       "      <td>81000.000000</td>\n",
       "      <td>650000.000000</td>\n",
       "    </tr>\n",
       "  </tbody>\n",
       "</table>\n",
       "</div>"
      ],
      "text/plain": [
       "       ApplicantIncome     LoanAmount\n",
       "count       577.000000     577.000000\n",
       "mean       5297.119584  144968.804159\n",
       "std        5853.236196   82704.181660\n",
       "min         150.000000    9000.000000\n",
       "25%        2889.000000  100000.000000\n",
       "50%        3800.000000  127000.000000\n",
       "75%        5746.000000  167000.000000\n",
       "max       81000.000000  650000.000000"
      ]
     },
     "execution_count": 6,
     "metadata": {},
     "output_type": "execute_result"
    }
   ],
   "source": [
    "loandata.describe()"
   ]
  },
  {
   "cell_type": "code",
   "execution_count": 7,
   "id": "5a95001f",
   "metadata": {},
   "outputs": [
    {
     "data": {
      "image/png": "[encoded data removed]",
      "text/plain": [
       "<Figure size 640x480 with 1 Axes>"
      ]
     },
     "metadata": {},
     "output_type": "display_data"
    }
   ],
   "source": [
    "#piechart for loan_status_count\n",
    "temp = loandata['Loan_Status'].value_counts()\n",
    "plt.pie(temp.values,\n",
    "        labels=temp.index,\n",
    "        autopct='%1.1f%%')\n",
    "plt.show()\n",
    "#Here we have an imbalanced dataset. We will have to balance it before training any model on this data."
   ]
  },
  {
   "cell_type": "code",
   "execution_count": 12,
   "id": "733833b2",
   "metadata": {},
   "outputs": [
    {
     "data": {
      "image/png": "[encoded data removed]",
      "text/plain": [
       "<Figure size 1500x500 with 2 Axes>"
      ]
     },
     "metadata": {},
     "output_type": "display_data"
    }
   ],
   "source": [
    "plt.subplots(figsize=(15, 5))\n",
    "for i, col in enumerate(['ApplicantIncome', 'LoanAmount']):\n",
    "    plt.subplot(1, 2, i+1)\n",
    "    sb.boxplot(loandata[col])\n",
    "plt.tight_layout()\n",
    "plt.show()\n",
    "#There are some extreme outlier’s in the data we need to remove them."
   ]
  },
  {
   "cell_type": "code",
   "execution_count": 15,
   "id": "a2fe26f1",
   "metadata": {},
   "outputs": [],
   "source": [
    "#removing the outliers manually\n",
    "loandata = loandata[loandata['ApplicantIncome'] < 25000]\n",
    "loandata = loandata[loandata['LoanAmount'] < 400000]"
   ]
  },
  {
   "cell_type": "code",
   "execution_count": 16,
   "id": "5cb319a6",
   "metadata": {},
   "outputs": [
    {
     "data": {
      "text/html": [
       "<div>\n",
       "<style scoped>\n",
       "    .dataframe tbody tr th:only-of-type {\n",
       "        vertical-align: middle;\n",
       "    }\n",
       "\n",
       "    .dataframe tbody tr th {\n",
       "        vertical-align: top;\n",
       "    }\n",
       "\n",
       "    .dataframe thead th {\n",
       "        text-align: right;\n",
       "    }\n",
       "</style>\n",
       "<table border=\"1\" class=\"dataframe\">\n",
       "  <thead>\n",
       "    <tr style=\"text-align: right;\">\n",
       "      <th></th>\n",
       "      <th>Gender</th>\n",
       "      <th>Married</th>\n",
       "      <th>ApplicantIncome</th>\n",
       "      <th>LoanAmount</th>\n",
       "      <th>Loan_Status</th>\n",
       "    </tr>\n",
       "  </thead>\n",
       "  <tbody>\n",
       "    <tr>\n",
       "      <th>0</th>\n",
       "      <td>Male</td>\n",
       "      <td>Yes</td>\n",
       "      <td>4583</td>\n",
       "      <td>128000.0</td>\n",
       "      <td>N</td>\n",
       "    </tr>\n",
       "    <tr>\n",
       "      <th>1</th>\n",
       "      <td>Male</td>\n",
       "      <td>Yes</td>\n",
       "      <td>3000</td>\n",
       "      <td>66000.0</td>\n",
       "      <td>Y</td>\n",
       "    </tr>\n",
       "    <tr>\n",
       "      <th>2</th>\n",
       "      <td>Male</td>\n",
       "      <td>Yes</td>\n",
       "      <td>2583</td>\n",
       "      <td>120000.0</td>\n",
       "      <td>Y</td>\n",
       "    </tr>\n",
       "    <tr>\n",
       "      <th>3</th>\n",
       "      <td>Male</td>\n",
       "      <td>No</td>\n",
       "      <td>6000</td>\n",
       "      <td>141000.0</td>\n",
       "      <td>Y</td>\n",
       "    </tr>\n",
       "    <tr>\n",
       "      <th>4</th>\n",
       "      <td>Male</td>\n",
       "      <td>Yes</td>\n",
       "      <td>5417</td>\n",
       "      <td>267000.0</td>\n",
       "      <td>Y</td>\n",
       "    </tr>\n",
       "  </tbody>\n",
       "</table>\n",
       "</div>"
      ],
      "text/plain": [
       "  Gender Married  ApplicantIncome  LoanAmount Loan_Status\n",
       "0   Male     Yes             4583    128000.0           N\n",
       "1   Male     Yes             3000     66000.0           Y\n",
       "2   Male     Yes             2583    120000.0           Y\n",
       "3   Male      No             6000    141000.0           Y\n",
       "4   Male     Yes             5417    267000.0           Y"
      ]
     },
     "execution_count": 16,
     "metadata": {},
     "output_type": "execute_result"
    }
   ],
   "source": [
    "loandata.head()"
   ]
  },
  {
   "cell_type": "code",
   "execution_count": 17,
   "id": "d4453eff",
   "metadata": {},
   "outputs": [
    {
     "data": {
      "text/plain": [
       "Gender\n",
       "Female    118822.429907\n",
       "Male      139289.823009\n",
       "Name: LoanAmount, dtype: float64"
      ]
     },
     "execution_count": 17,
     "metadata": {},
     "output_type": "execute_result"
    }
   ],
   "source": [
    "#Let’s see the mean amount of the loan granted to males as well as females.\n",
    "loandata.groupby('Gender').mean()['LoanAmount']"
   ]
  },
  {
   "cell_type": "code",
   "execution_count": 19,
   "id": "149a0ef6",
   "metadata": {},
   "outputs": [
    {
     "data": {
      "text/plain": [
       "Married  Gender\n",
       "No       Female    116115.384615\n",
       "         Male      126644.628099\n",
       "Yes      Female    126103.448276\n",
       "         Male      143912.386707\n",
       "Name: LoanAmount, dtype: float64"
      ]
     },
     "execution_count": 19,
     "metadata": {},
     "output_type": "execute_result"
    }
   ],
   "source": [
    "loandata.groupby(['Married', 'Gender']).mean()['LoanAmount']"
   ]
  },
  {
   "cell_type": "code",
   "execution_count": 20,
   "id": "08960f85",
   "metadata": {},
   "outputs": [],
   "source": [
    "#The loan amount requested by males is higher than what is requested by females."
   ]
  },
  {
   "cell_type": "code",
   "execution_count": 21,
   "id": "06a98dc8",
   "metadata": {},
   "outputs": [
    {
     "data": {
      "text/plain": [
       "Married  Gender\n",
       "No       Female    116115.384615\n",
       "         Male      126644.628099\n",
       "Yes      Female    126103.448276\n",
       "         Male      143912.386707\n",
       "Name: LoanAmount, dtype: float64"
      ]
     },
     "execution_count": 21,
     "metadata": {},
     "output_type": "execute_result"
    }
   ],
   "source": [
    "loandata.groupby(['Married', 'Gender']).mean()['LoanAmount']"
   ]
  },
  {
   "cell_type": "code",
   "execution_count": null,
   "id": "0dd405c0",
   "metadata": {},
   "outputs": [],
   "source": [
    "#The married people requested loan amount is generally higher than that of the unmarried. \n",
    "#This may be one of the reason’s that we observe earlier that the chances of getting loan approval for a married person are lower than that compared to an unmarried person."
   ]
  },
  {
   "cell_type": "code",
   "execution_count": 23,
   "id": "027a6e0c",
   "metadata": {},
   "outputs": [
    {
     "data": {
      "image/png": "[encoded data removed]",
      "text/plain": [
       "<Figure size 640x480 with 1 Axes>"
      ]
     },
     "metadata": {},
     "output_type": "display_data"
    }
   ],
   "source": [
    "# Function to apply label encoding\n",
    "from sklearn.preprocessing import LabelEncoder\n",
    "def encode_labels(data):\n",
    "    for col in data.columns:\n",
    "        if data[col].dtype == 'object':\n",
    "            le = LabelEncoder()\n",
    "            data[col] = le.fit_transform(data[col])\n",
    "  \n",
    "    return data\n",
    "  \n",
    "# Applying function in whole column\n",
    "loandata = encode_labels(loandata)\n",
    "  \n",
    "# Generating Heatmap\n",
    "sb.heatmap(loandata.corr() > 0.8, annot=True, cbar=False)\n",
    "plt.show()"
   ]
  },
  {
   "cell_type": "code",
   "execution_count": 24,
   "id": "bdc12e6f",
   "metadata": {},
   "outputs": [
    {
     "data": {
      "text/html": [
       "<div>\n",
       "<style scoped>\n",
       "    .dataframe tbody tr th:only-of-type {\n",
       "        vertical-align: middle;\n",
       "    }\n",
       "\n",
       "    .dataframe tbody tr th {\n",
       "        vertical-align: top;\n",
       "    }\n",
       "\n",
       "    .dataframe thead th {\n",
       "        text-align: right;\n",
       "    }\n",
       "</style>\n",
       "<table border=\"1\" class=\"dataframe\">\n",
       "  <thead>\n",
       "    <tr style=\"text-align: right;\">\n",
       "      <th></th>\n",
       "      <th>Gender</th>\n",
       "      <th>Married</th>\n",
       "      <th>ApplicantIncome</th>\n",
       "      <th>LoanAmount</th>\n",
       "      <th>Loan_Status</th>\n",
       "    </tr>\n",
       "  </thead>\n",
       "  <tbody>\n",
       "    <tr>\n",
       "      <th>0</th>\n",
       "      <td>1</td>\n",
       "      <td>1</td>\n",
       "      <td>4583</td>\n",
       "      <td>128000.0</td>\n",
       "      <td>0</td>\n",
       "    </tr>\n",
       "    <tr>\n",
       "      <th>1</th>\n",
       "      <td>1</td>\n",
       "      <td>1</td>\n",
       "      <td>3000</td>\n",
       "      <td>66000.0</td>\n",
       "      <td>1</td>\n",
       "    </tr>\n",
       "    <tr>\n",
       "      <th>2</th>\n",
       "      <td>1</td>\n",
       "      <td>1</td>\n",
       "      <td>2583</td>\n",
       "      <td>120000.0</td>\n",
       "      <td>1</td>\n",
       "    </tr>\n",
       "    <tr>\n",
       "      <th>3</th>\n",
       "      <td>1</td>\n",
       "      <td>0</td>\n",
       "      <td>6000</td>\n",
       "      <td>141000.0</td>\n",
       "      <td>1</td>\n",
       "    </tr>\n",
       "    <tr>\n",
       "      <th>4</th>\n",
       "      <td>1</td>\n",
       "      <td>1</td>\n",
       "      <td>5417</td>\n",
       "      <td>267000.0</td>\n",
       "      <td>1</td>\n",
       "    </tr>\n",
       "  </tbody>\n",
       "</table>\n",
       "</div>"
      ],
      "text/plain": [
       "   Gender  Married  ApplicantIncome  LoanAmount  Loan_Status\n",
       "0       1        1             4583    128000.0            0\n",
       "1       1        1             3000     66000.0            1\n",
       "2       1        1             2583    120000.0            1\n",
       "3       1        0             6000    141000.0            1\n",
       "4       1        1             5417    267000.0            1"
      ]
     },
     "execution_count": 24,
     "metadata": {},
     "output_type": "execute_result"
    }
   ],
   "source": [
    "loandata.head()"
   ]
  },
  {
   "cell_type": "code",
   "execution_count": 27,
   "id": "4d9465ba",
   "metadata": {},
   "outputs": [
    {
     "data": {
      "text/plain": [
       "(559, 5)"
      ]
     },
     "execution_count": 27,
     "metadata": {},
     "output_type": "execute_result"
    }
   ],
   "source": [
    "loandata.shape"
   ]
  },
  {
   "cell_type": "markdown",
   "id": "8ef6e317",
   "metadata": {},
   "source": [
    "# Data Preprocessing"
   ]
  },
  {
   "cell_type": "code",
   "execution_count": 35,
   "id": "2f551c91",
   "metadata": {},
   "outputs": [
    {
     "name": "stdout",
     "output_type": "stream",
     "text": [
      "     Gender  Married  ApplicantIncome  LoanAmount\n",
      "0         1        1             4583    128000.0\n",
      "1         1        1             3000     66000.0\n",
      "2         1        1             2583    120000.0\n",
      "3         1        0             6000    141000.0\n",
      "4         1        1             5417    267000.0\n",
      "..      ...      ...              ...         ...\n",
      "572       0        0             2900     71000.0\n",
      "573       1        1             4106     40000.0\n",
      "574       1        1             8072    253000.0\n",
      "575       1        1             7583    187000.0\n",
      "576       0        0             4583    133000.0\n",
      "\n",
      "[559 rows x 4 columns]\n",
      "0      0\n",
      "1      1\n",
      "2      1\n",
      "3      1\n",
      "4      1\n",
      "      ..\n",
      "572    1\n",
      "573    1\n",
      "574    1\n",
      "575    1\n",
      "576    0\n",
      "Name: Loan_Status, Length: 559, dtype: int32\n"
     ]
    }
   ],
   "source": [
    "#Indentify the independent and target(dependent) variables\n",
    "\n",
    "IndepVar=[]\n",
    "for col in loandata.columns:\n",
    "    if col !='Loan_Status':\n",
    "        IndepVar.append(col)\n",
    "        \n",
    "TargetVar='Loan_Status'\n",
    "\n",
    "x=loandata[IndepVar]\n",
    "y=loandata[TargetVar]\n",
    "print(x)\n",
    "print(y)"
   ]
  },
  {
   "cell_type": "code",
   "execution_count": 36,
   "id": "e792d07d",
   "metadata": {},
   "outputs": [
    {
     "data": {
      "text/plain": [
       "((391, 4), (168, 4), (391,), (168,))"
      ]
     },
     "execution_count": 36,
     "metadata": {},
     "output_type": "execute_result"
    }
   ],
   "source": [
    "#split the data into tain and test(random sampling)\n",
    "\n",
    "from sklearn.model_selection import train_test_split\n",
    "\n",
    "#70% for training and 30% for testing x=independent varaibles(6) y=dependent variable(1)\n",
    "x_train,x_test,y_train,y_test=train_test_split(x,y,test_size=0.3,random_state=42)\n",
    "\n",
    "#display the shape for train&test data\n",
    "\n",
    "x_train.shape,x_test.shape,y_train.shape,y_test.shape"
   ]
  },
  {
   "cell_type": "code",
   "execution_count": 38,
   "id": "5d7eaa98",
   "metadata": {},
   "outputs": [],
   "source": [
    "# Scaling the features by using MinMaxScaler\n",
    "\n",
    "from sklearn.preprocessing import MinMaxScaler\n",
    "\n",
    "mmscaler = MinMaxScaler(feature_range=(0, 1))\n",
    "\n",
    "x_train = mmscaler.fit_transform(x_train)\n",
    "x_train = pd.DataFrame(x_train)\n",
    "\n",
    "x_test= mmscaler.fit_transform(x_test)\n",
    "x_test = pd.DataFrame(x_test)"
   ]
  },
  {
   "cell_type": "code",
   "execution_count": 51,
   "id": "68c38cde",
   "metadata": {},
   "outputs": [],
   "source": [
    "from sklearn.svm import SVC\n",
    "\n",
    "#create an object for model\n",
    "\n",
    "Modelsv=SVC(probability=True)\n",
    "\n",
    "#train the model\n",
    "\n",
    "Modelsv.fit(x_train,y_train)\n",
    "\n",
    "#predict the model with test data set\n",
    "\n",
    "y_pred=Modelsv.predict(x_test)\n",
    "y_pred_prob=Modelsv.predict_proba(x_test)"
   ]
  },
  {
   "cell_type": "code",
   "execution_count": 42,
   "id": "5f721d18",
   "metadata": {},
   "outputs": [
    {
     "name": "stdout",
     "output_type": "stream",
     "text": [
      "Confusion matrix : \n",
      " [[115   0]\n",
      " [ 53   0]]\n"
     ]
    }
   ],
   "source": [
    "# Confusion matrix in sklearn\n",
    "\n",
    "from sklearn.metrics import confusion_matrix\n",
    "from sklearn.metrics import classification_report\n",
    "\n",
    "# Actual values\n",
    "\n",
    "actual = y_test\n",
    "\n",
    "# Predicted values\n",
    "\n",
    "predicted = y_pred\n",
    "\n",
    "# Confusion matrix\n",
    "\n",
    "matrix = confusion_matrix(actual,predicted, labels=[1,0], sample_weight=None, normalize=None)\n",
    "print('Confusion matrix : \\n', matrix)"
   ]
  },
  {
   "cell_type": "code",
   "execution_count": 43,
   "id": "a6d23083",
   "metadata": {},
   "outputs": [
    {
     "name": "stdout",
     "output_type": "stream",
     "text": [
      "Outcome values : \n",
      " 115 0 53 0\n",
      "Classification report : \n",
      "               precision    recall  f1-score   support\n",
      "\n",
      "           1       0.68      1.00      0.81       115\n",
      "           0       0.00      0.00      0.00        53\n",
      "\n",
      "    accuracy                           0.68       168\n",
      "   macro avg       0.34      0.50      0.41       168\n",
      "weighted avg       0.47      0.68      0.56       168\n",
      "\n"
     ]
    }
   ],
   "source": [
    "# Outcome values order in sklearn\n",
    "\n",
    "tp, fn, fp, tn = confusion_matrix(actual,predicted,labels=[1,0]).reshape(-1)\n",
    "print('Outcome values : \\n', tp, fn, fp, tn)\n",
    "\n",
    "# Classification report for precision, recall f1-score and accuracy\n",
    "\n",
    "C_Report = classification_report(actual,predicted,labels=[1,0])\n",
    "\n",
    "print('Classification report : \\n', C_Report)\n",
    "\n",
    "# Calculating the metrics\n",
    "\n",
    "sensitivity = round(tp/(tp+fn), 3);\n",
    "specificity = round(tn/(tn+fp), 3);\n",
    "accuracy = round((tp+tn)/(tp+fp+tn+fn), 3);\n",
    "balanced_accuracy = round((sensitivity+specificity)/2, 3);\n",
    "    \n",
    "precision = round(tp/(tp+fp), 3);\n",
    "f1Score = round((2*tp/(2*tp + fp + fn)), 3);"
   ]
  },
  {
   "cell_type": "code",
   "execution_count": 52,
   "id": "045ca245",
   "metadata": {},
   "outputs": [
    {
     "name": "stdout",
     "output_type": "stream",
     "text": [
      "Accuracy : 68.5 %\n",
      "Precision : 68.5 %\n",
      "Recall : 100.0 %\n",
      "F1 Score : 0.813\n",
      "Specificity or True Negative Rate : 0.0 %\n",
      "Balanced Accuracy : 50.0 %\n",
      "MCC : nan\n",
      "roc_auc_score: 0.5\n"
     ]
    },
    {
     "data": {
      "image/png": "[encoded data removed]",
      "text/plain": [
       "<Figure size 640x480 with 1 Axes>"
      ]
     },
     "metadata": {},
     "output_type": "display_data"
    },
    {
     "name": "stdout",
     "output_type": "stream",
     "text": [
      "-----------------------------------------------------------------------------------------------------\n"
     ]
    }
   ],
   "source": [
    "# Matthews Correlation Coefficient (MCC). Range of values of MCC lie between -1 to +1. \n",
    "# A model with a score of +1 is a perfect model and -1 is a poor model\n",
    "\n",
    "from math import sqrt\n",
    "\n",
    "mx = (tp+fp) * (tp+fn) * (tn+fp) * (tn+fn)\n",
    "MCC = round(((tp * tn) - (fp * fn)) / sqrt(mx), 3)\n",
    "\n",
    "print('Accuracy :', round(accuracy*100, 2),'%')\n",
    "print('Precision :', round(precision*100, 2),'%')\n",
    "print('Recall :', round(sensitivity*100,2), '%')\n",
    "print('F1 Score :', f1Score)\n",
    "print('Specificity or True Negative Rate :', round(specificity*100,2), '%')\n",
    "print('Balanced Accuracy :', round(balanced_accuracy*100, 2),'%')\n",
    "print('MCC :', MCC)\n",
    "\n",
    "\n",
    "\n",
    "\n",
    "\n",
    "\n",
    "\n",
    "# Area under ROC curve \n",
    "\n",
    "from sklearn.metrics import roc_curve, roc_auc_score\n",
    "\n",
    "print('roc_auc_score:', round(roc_auc_score(actual, predicted), 3))\n",
    "\n",
    "# ROC Curve\n",
    "\n",
    "from sklearn.metrics import roc_auc_score\n",
    "from sklearn.metrics import roc_curve\n",
    "model_roc_auc = roc_auc_score(actual, predicted)\n",
    "fpr, tpr, thresholds = roc_curve(actual,Modelsv.predict_proba(x_test)[:,1])\n",
    "plt.figure()\n",
    "#----------------------------------------------------\n",
    "plt.plot(fpr, tpr, label= 'Classification Model' % model_roc_auc)\n",
    "plt.plot([0, 1], [0, 1],'r--')\n",
    "plt.xlim([0.0, 1.0])\n",
    "plt.ylim([0.0, 1.05])\n",
    "plt.xlabel('False Positive Rate')\n",
    "plt.ylabel('True Positive Rate')\n",
    "plt.title('Receiver operating characteristic')\n",
    "plt.legend(loc=\"lower right\")\n",
    "plt.show() \n",
    "print('-----------------------------------------------------------------------------------------------------')"
   ]
  },
  {
   "cell_type": "code",
   "execution_count": 54,
   "id": "d622e358",
   "metadata": {},
   "outputs": [
    {
     "data": {
      "text/html": [
       "<div>\n",
       "<style scoped>\n",
       "    .dataframe tbody tr th:only-of-type {\n",
       "        vertical-align: middle;\n",
       "    }\n",
       "\n",
       "    .dataframe tbody tr th {\n",
       "        vertical-align: top;\n",
       "    }\n",
       "\n",
       "    .dataframe thead th {\n",
       "        text-align: right;\n",
       "    }\n",
       "</style>\n",
       "<table border=\"1\" class=\"dataframe\">\n",
       "  <thead>\n",
       "    <tr style=\"text-align: right;\">\n",
       "      <th></th>\n",
       "      <th>Gender</th>\n",
       "      <th>Married</th>\n",
       "      <th>ApplicantIncome</th>\n",
       "      <th>LoanAmount</th>\n",
       "      <th>Loan_Status</th>\n",
       "      <th>Loan_Status_A</th>\n",
       "      <th>Loan_Status_P</th>\n",
       "    </tr>\n",
       "  </thead>\n",
       "  <tbody>\n",
       "    <tr>\n",
       "      <th>182</th>\n",
       "      <td>1</td>\n",
       "      <td>0</td>\n",
       "      <td>8333</td>\n",
       "      <td>187000.0</td>\n",
       "      <td>1</td>\n",
       "      <td>1</td>\n",
       "      <td>1</td>\n",
       "    </tr>\n",
       "    <tr>\n",
       "      <th>328</th>\n",
       "      <td>1</td>\n",
       "      <td>1</td>\n",
       "      <td>9083</td>\n",
       "      <td>228000.0</td>\n",
       "      <td>1</td>\n",
       "      <td>1</td>\n",
       "      <td>1</td>\n",
       "    </tr>\n",
       "    <tr>\n",
       "      <th>240</th>\n",
       "      <td>1</td>\n",
       "      <td>0</td>\n",
       "      <td>6045</td>\n",
       "      <td>115000.0</td>\n",
       "      <td>0</td>\n",
       "      <td>0</td>\n",
       "      <td>1</td>\n",
       "    </tr>\n",
       "    <tr>\n",
       "      <th>271</th>\n",
       "      <td>0</td>\n",
       "      <td>0</td>\n",
       "      <td>4124</td>\n",
       "      <td>115000.0</td>\n",
       "      <td>1</td>\n",
       "      <td>1</td>\n",
       "      <td>1</td>\n",
       "    </tr>\n",
       "    <tr>\n",
       "      <th>410</th>\n",
       "      <td>1</td>\n",
       "      <td>1</td>\n",
       "      <td>2425</td>\n",
       "      <td>143000.0</td>\n",
       "      <td>1</td>\n",
       "      <td>1</td>\n",
       "      <td>1</td>\n",
       "    </tr>\n",
       "    <tr>\n",
       "      <th>68</th>\n",
       "      <td>1</td>\n",
       "      <td>0</td>\n",
       "      <td>3500</td>\n",
       "      <td>81000.0</td>\n",
       "      <td>1</td>\n",
       "      <td>1</td>\n",
       "      <td>1</td>\n",
       "    </tr>\n",
       "    <tr>\n",
       "      <th>297</th>\n",
       "      <td>1</td>\n",
       "      <td>1</td>\n",
       "      <td>3717</td>\n",
       "      <td>120000.0</td>\n",
       "      <td>1</td>\n",
       "      <td>1</td>\n",
       "      <td>1</td>\n",
       "    </tr>\n",
       "    <tr>\n",
       "      <th>79</th>\n",
       "      <td>1</td>\n",
       "      <td>1</td>\n",
       "      <td>3988</td>\n",
       "      <td>50000.0</td>\n",
       "      <td>1</td>\n",
       "      <td>1</td>\n",
       "      <td>1</td>\n",
       "    </tr>\n",
       "    <tr>\n",
       "      <th>168</th>\n",
       "      <td>1</td>\n",
       "      <td>0</td>\n",
       "      <td>1916</td>\n",
       "      <td>67000.0</td>\n",
       "      <td>0</td>\n",
       "      <td>0</td>\n",
       "      <td>1</td>\n",
       "    </tr>\n",
       "    <tr>\n",
       "      <th>420</th>\n",
       "      <td>1</td>\n",
       "      <td>1</td>\n",
       "      <td>3466</td>\n",
       "      <td>130000.0</td>\n",
       "      <td>1</td>\n",
       "      <td>1</td>\n",
       "      <td>1</td>\n",
       "    </tr>\n",
       "  </tbody>\n",
       "</table>\n",
       "</div>"
      ],
      "text/plain": [
       "     Gender  Married  ApplicantIncome  LoanAmount  Loan_Status  Loan_Status_A  \\\n",
       "182       1        0             8333    187000.0            1              1   \n",
       "328       1        1             9083    228000.0            1              1   \n",
       "240       1        0             6045    115000.0            0              0   \n",
       "271       0        0             4124    115000.0            1              1   \n",
       "410       1        1             2425    143000.0            1              1   \n",
       "68        1        0             3500     81000.0            1              1   \n",
       "297       1        1             3717    120000.0            1              1   \n",
       "79        1        1             3988     50000.0            1              1   \n",
       "168       1        0             1916     67000.0            0              0   \n",
       "420       1        1             3466    130000.0            1              1   \n",
       "\n",
       "     Loan_Status_P  \n",
       "182              1  \n",
       "328              1  \n",
       "240              1  \n",
       "271              1  \n",
       "410              1  \n",
       "68               1  \n",
       "297              1  \n",
       "79               1  \n",
       "168              1  \n",
       "420              1  "
      ]
     },
     "execution_count": 54,
     "metadata": {},
     "output_type": "execute_result"
    }
   ],
   "source": [
    "#display the final results\n",
    "Results=pd.DataFrame({'Loan_Status_A':y_test,'Loan_Status_P':y_pred})\n",
    "\n",
    "#MERGE TWO DATAFRAMES ON INDEX OF BOTH THE DATAFRAMES\n",
    "\n",
    "ResultsFinal=loandata.merge(Results,left_index=True,right_index=True)\n",
    "\n",
    "#DISPLAY 5 RECORDS RANDOMLY\n",
    "\n",
    "ResultsFinal.sample(10)"
   ]
  },
  {
   "cell_type": "code",
   "execution_count": null,
   "id": "92417c23",
   "metadata": {},
   "outputs": [],
   "source": []
  }
 ],
 "metadata": {
  "kernelspec": {
   "display_name": "Python 3 (ipykernel)",
   "language": "python",
   "name": "python3"
  },
  "language_info": {
   "codemirror_mode": {
    "name": "ipython",
    "version": 3
   },
   "file_extension": ".py",
   "mimetype": "text/x-python",
   "name": "python",
   "nbconvert_exporter": "python",
   "pygments_lexer": "ipython3",
   "version": "3.10.9"
  }
 },
 "nbformat": 4,
 "nbformat_minor": 5
}
